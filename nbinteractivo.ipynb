{
 "cells": [
  {
   "cell_type": "markdown",
   "metadata": {},
   "source": [
    "# `nbinteract` Tutorial Starter Notebook\n",
    "\n",
    "Welcome to the `nbinteract` tutorial notebook! This is a blank notebook that you will fill in as you work through the `nbinteract` tutorial. You will eventually turn this notebook into an interactive webpage."
   ]
  },
  {
   "cell_type": "code",
   "execution_count": 5,
   "metadata": {},
   "outputs": [],
   "source": [
    "import nbinteract as nbi\n",
    "from ipywidgets import interact \n",
    "from numpy import pi, cos, sin, linspace\n",
    "import matplotlib.pyplot as plt\n",
    "from IPython.display import display\n"
   ]
  },
  {
   "cell_type": "code",
   "execution_count": 6,
   "metadata": {},
   "outputs": [],
   "source": [
    "def graf(frec):\n",
    "    x = linspace(0, 3, num=300)\n",
    "    y = x * sin(x*1*pi*frec) \n",
    "\n",
    "    plt.plot(x, y, 'red')\n",
    "    plt.ylim(-3, 3)\n",
    "    plt.show()"
   ]
  },
  {
   "cell_type": "code",
   "execution_count": 7,
   "metadata": {},
   "outputs": [
    {
     "data": {
      "image/png": "[encoded data removed]",
      "text/plain": [
       "<matplotlib.figure.Figure at 0x16f146cdcc0>"
      ]
     },
     "metadata": {},
     "output_type": "display_data"
    }
   ],
   "source": [
    "i  = interact(graf, frec=(0, 10.0, 0.5));\n",
    "i.widget"
   ]
  },
  {
   "cell_type": "code",
   "execution_count": 8,
   "metadata": {},
   "outputs": [
    {
     "data": {
      "application/javascript": [
       "IPython.notebook.save_checkpoint();"
      ],
      "text/plain": [
       "<IPython.core.display.Javascript object>"
      ]
     },
     "metadata": {},
     "output_type": "display_data"
    },
    {
     "data": {
      "application/javascript": [
       "IPython.notebook.save_notebook();"
      ],
      "text/plain": [
       "<IPython.core.display.Javascript object>"
      ]
     },
     "metadata": {},
     "output_type": "display_data"
    },
    {
     "name": "stdout",
     "output_type": "stream",
     "text": [
      "Saving notebook... Saved 'tutorial.ipynb'.\n",
      "Converting notebook...\n"
     ]
    },
    {
     "name": "stderr",
     "output_type": "stream",
     "text": [
      "WARNING:root:\n",
      "Error when converting :(\n",
      "\n",
      "Double check that you didn't misspell your filename. This is the filename you\n",
      "wanted to publish: tutorial.ipynb.\n",
      "\n",
      "If you believe this is an error with the package, please report an issue at\n",
      "https://github.com/SamLau95/nbinteract/issues/new and include the error output\n",
      "below:\n",
      "\n",
      "==============\n",
      "\n",
      "Traceback (most recent call last):\r\n",
      "  File \"c:\\python36\\lib\\runpy.py\", line 193, in _run_module_as_main\r\n",
      "    \"__main__\", mod_spec)\r\n",
      "  File \"c:\\python36\\lib\\runpy.py\", line 85, in _run_code\r\n",
      "    exec(code, run_globals)\r\n",
      "  File \"C:\\Python36\\Scripts\\nbinteract.exe\\__main__.py\", line 9, in <module>\r\n",
      "  File \"c:\\python36\\lib\\site-packages\\nbinteract\\cli.py\", line 158, in main\r\n",
      "    check_arguments(arguments)\r\n",
      "  File \"c:\\python36\\lib\\site-packages\\nbinteract\\cli.py\", line 312, in check_arguments\r\n",
      "    if not SPEC_REGEX.match(arguments['--spec']):\r\n",
      "TypeError: expected string or bytes-like object\r\n",
      "\n",
      "\n"
     ]
    }
   ],
   "source": [
    "nbi.publish('x1sa1/nbinteract-image/master', 'tutorial.ipynb')"
   ]
  },
  {
   "cell_type": "code",
   "execution_count": null,
   "metadata": {},
   "outputs": [],
   "source": []
  }
 ],
 "metadata": {
  "kernelspec": {
   "display_name": "Python 3",
   "language": "python",
   "name": "python3"
  },
  "language_info": {
   "codemirror_mode": {
    "name": "ipython",
    "version": 3
   },
   "file_extension": ".py",
   "mimetype": "text/x-python",
   "name": "python",
   "nbconvert_exporter": "python",
   "pygments_lexer": "ipython3",
   "version": "3.6.3"
  }
 },
 "nbformat": 4,
 "nbformat_minor": 2
}
